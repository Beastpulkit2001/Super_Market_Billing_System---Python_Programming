{
 "cells": [
  {
   "cell_type": "markdown",
   "id": "d36e27ba-203c-45f5-8e76-5dc26f80fdf3",
   "metadata": {},
   "source": [
    "# Super Market Billing System "
   ]
  },
  {
   "cell_type": "code",
   "execution_count": 2,
   "id": "2eb2c030-ecfb-42d1-9533-889ed2bedbe6",
   "metadata": {},
   "outputs": [
    {
     "name": "stdout",
     "output_type": "stream",
     "text": [
      "-------------------- Super Market Billing System --------------------\n"
     ]
    },
    {
     "name": "stdin",
     "output_type": "stream",
     "text": [
      "Enter Your Name:  Ram \n",
      "Enter your Age: 23\n",
      "Enter your Phone No.: 9827484590\n"
     ]
    },
    {
     "name": "stdout",
     "output_type": "stream",
     "text": [
      "\n",
      "-------------------- Product List --------------------\n",
      "                     Apple : 30\n",
      "                     Chips : 50\n",
      "                     Burger : 80\n",
      "                     Pepsi : 90\n",
      "--------------------------------------------------\n",
      "\n"
     ]
    },
    {
     "name": "stdin",
     "output_type": "stream",
     "text": [
      "Enter the Product Name apple\n",
      "Enter the quantity:  20\n",
      "Do you want to add more items: Yes/No yes\n"
     ]
    },
    {
     "name": "stdout",
     "output_type": "stream",
     "text": [
      "\n",
      "-------------------- Product List --------------------\n",
      "                     Apple : 30\n",
      "                     Chips : 50\n",
      "                     Burger : 80\n",
      "                     Pepsi : 90\n",
      "--------------------------------------------------\n",
      "\n"
     ]
    },
    {
     "name": "stdin",
     "output_type": "stream",
     "text": [
      "Enter the Product Name chips\n",
      "Enter the quantity:  25\n",
      "Do you want to add more items: Yes/No no\n"
     ]
    },
    {
     "name": "stdout",
     "output_type": "stream",
     "text": [
      "\n",
      "-------------------- Bill Summary --------------------\n",
      "Customer Name: Ram \n",
      "Customer Age: 23\n",
      "Customer Phone No.: 9827484590\n",
      "Apple Price: 30 Quantity Purchased: 20.0\n",
      "Chips Price: 50 Quantity Purchased: 25.0\n",
      "Discount Amount:  15.0 %\n",
      "--------------------------------------------------\n",
      "           Total Amount Paid: 1572.5\n",
      "--------------------------------------------------\n",
      "\n"
     ]
    },
    {
     "name": "stdin",
     "output_type": "stream",
     "text": [
      "Do you want to add more cutomers: Yes/No no\n"
     ]
    },
    {
     "name": "stdout",
     "output_type": "stream",
     "text": [
      "Thank You for Visiting 😀\n"
     ]
    }
   ],
   "source": [
    "# Super Market Billing System\n",
    "print('-'*20,'Super Market Billing System', '-'*20 )\n",
    "\n",
    "while True:\n",
    "    amount = 0\n",
    "    discount = 0\n",
    "    cart= {}\n",
    "    #customer information\n",
    "    name = input('Enter Your Name: ').capitalize()\n",
    "    age = int(input('Enter your Age:'))\n",
    "    phone = int(input('Enter your Phone No.:'))\n",
    "    \n",
    "    # Detail = []\n",
    "    while True:    \n",
    "        #Product List\n",
    "        print()\n",
    "        print('-'*20, 'Product List', '-'*20)\n",
    "        product = {'Apple': 30, 'Chips': 50, 'Burger': 80, 'Pepsi': 90}\n",
    "        for i,j in product.items():\n",
    "            print('  '*10,i,':',j)\n",
    "        print('-'* 50)\n",
    "        print()\n",
    "        \n",
    "        #Product Details\n",
    "        p_name = input('Enter the Product Name').capitalize()\n",
    "        quan = float(input('Enter the quantity: '))\n",
    "\n",
    "        #update the cart\n",
    "        value = []\n",
    "        value.append(product[p_name])\n",
    "        value.append(quan)\n",
    "        cart[p_name] = value\n",
    "        \n",
    "        amount += product[p_name] * quan\n",
    "        que = input('Do you want to add more items: Yes/No').capitalize()\n",
    "        if que == 'No':\n",
    "            break\n",
    "    \n",
    "    # Disocunt of product\n",
    "    if amount <= 500:\n",
    "        discount = 0\n",
    "    elif amount <= 600:\n",
    "        disount = 0.5\n",
    "    elif amount <= 800:\n",
    "        discount = 0.10\n",
    "    else:\n",
    "        discount = 0.15\n",
    "        \n",
    "    amount -= (amount * discount)\n",
    "    \n",
    "    # Bill Summary\n",
    "    print()\n",
    "    print('-'*20, 'Bill Summary', '-'*20)\n",
    "    print('Customer Name:', name)\n",
    "    print('Customer Age:', age)\n",
    "    print('Customer Phone No.:',phone)\n",
    "    for i,j in cart.items():\n",
    "        print(i, 'Price:', j[0], 'Quantity Purchased:', j[1])\n",
    "    print('Discount Amount: ', discount*100, '%')\n",
    "    print('-'*50)\n",
    "    print('  '*5, 'Total Amount Paid:', amount)\n",
    "    print('-'*50)\n",
    "    print()\n",
    "    \n",
    "    #Add More customer\n",
    "    ques = input('Do you want to add more cutomers: Yes/No').capitalize()\n",
    "    if ques == 'No':\n",
    "        break\n",
    "\n",
    "print('Thank You for Visiting \\N{grinning face}')"
   ]
  }
 ],
 "metadata": {
  "kernelspec": {
   "display_name": "Python 3 (ipykernel)",
   "language": "python",
   "name": "python3"
  },
  "language_info": {
   "codemirror_mode": {
    "name": "ipython",
    "version": 3
   },
   "file_extension": ".py",
   "mimetype": "text/x-python",
   "name": "python",
   "nbconvert_exporter": "python",
   "pygments_lexer": "ipython3",
   "version": "3.12.3"
  }
 },
 "nbformat": 4,
 "nbformat_minor": 5
}
